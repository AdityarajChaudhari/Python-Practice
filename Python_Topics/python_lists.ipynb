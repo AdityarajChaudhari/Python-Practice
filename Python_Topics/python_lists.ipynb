{
 "cells": [
  {
   "cell_type": "raw",
   "id": "49404cc8-73b5-497b-95a1-8077998924c7",
   "metadata": {},
   "source": [
    "Lists are one of the data structures in python\n",
    "Lists are represented as [] or in-built list() function\n",
    "Lists are used to store multiple items in a single variable.\n",
    "Lists are ordered, mutable and can have duplicate values.\n",
    "Lists can contain data of different data types\n",
    "Lists items are indexed from 0 loc\n",
    "The order of elements won't change and if we add any element it will be inserted at the end\n",
    "The items from the lists can be inserted, removed, i.e lists are also changeable\n"
   ]
  },
  {
   "cell_type": "raw",
   "id": "cc5690d6-811d-415d-8179-7e77fa1d1c0f",
   "metadata": {},
   "source": [
    "# Python list methods\n",
    "\n",
    "\n",
    "append() -\tAdds an element at the end of the list\n",
    "clear() -\tRemoves all the elements from the list\n",
    "copy() -\tReturns a copy of the list\n",
    "count() -\tReturns the number of elements with the specified value\n",
    "extend() - \tAdd the elements of a list (or any iterable), to the end of the current list\n",
    "index() - \tReturns the index of the first element with the specified value\n",
    "insert() -\tAdds an element at the specified position\n",
    "pop() -\tRemoves the element at the specified position\n",
    "remove() -\tRemoves the first item with the specified value\n",
    "reverse() -\tReverses the order of the list\n",
    "sort() -\tSorts the list"
   ]
  },
  {
   "cell_type": "code",
   "execution_count": null,
   "id": "75e46213-80dc-47f5-88ca-0f044472bc74",
   "metadata": {},
   "outputs": [],
   "source": []
  },
  {
   "cell_type": "code",
   "execution_count": null,
   "id": "633fd628-9783-43ac-9880-178fc8459275",
   "metadata": {},
   "outputs": [],
   "source": []
  }
 ],
 "metadata": {
  "kernelspec": {
   "display_name": "Python 3 (ipykernel)",
   "language": "python",
   "name": "python3"
  },
  "language_info": {
   "codemirror_mode": {
    "name": "ipython",
    "version": 3
   },
   "file_extension": ".py",
   "mimetype": "text/x-python",
   "name": "python",
   "nbconvert_exporter": "python",
   "pygments_lexer": "ipython3",
   "version": "3.9.19"
  }
 },
 "nbformat": 4,
 "nbformat_minor": 5
}
