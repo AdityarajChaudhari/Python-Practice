{
 "cells": [
  {
   "cell_type": "code",
   "execution_count": 1,
   "metadata": {},
   "outputs": [
    {
     "name": "stdout",
     "output_type": "stream",
     "text": [
      "Enter the number :- 45\n",
      "Odd Number\n"
     ]
    }
   ],
   "source": [
    "# 11 - Python Program to Check if a Number is Odd or Even\n",
    "\n",
    "num = int(input(\"Enter the number :- \"))\n",
    "if num>=1:\n",
    "    if num%2==0:\n",
    "        print(\"Even Number\")\n",
    "    else:\n",
    "        print(\"Odd Number\")\n",
    "else:\n",
    "    print(\"Enter the Correct Number\")"
   ]
  },
  {
   "cell_type": "code",
   "execution_count": null,
   "metadata": {},
   "outputs": [],
   "source": []
  },
  {
   "cell_type": "code",
   "execution_count": 2,
   "metadata": {},
   "outputs": [
    {
     "name": "stdout",
     "output_type": "stream",
     "text": [
      "Enter the Year :- 2907\n",
      "Normal Year\n"
     ]
    }
   ],
   "source": [
    "# 12 - Python Program to Check Leap Year\n",
    "\n",
    "year = int(input(\"Enter the Year :- \"))\n",
    "if year%400==0 or year%100!=0 and year%4==0:\n",
    "    print(\"Leap Year\")\n",
    "else:\n",
    "    print(\"Normal Year\")"
   ]
  },
  {
   "cell_type": "code",
   "execution_count": null,
   "metadata": {},
   "outputs": [],
   "source": []
  },
  {
   "cell_type": "code",
   "execution_count": null,
   "metadata": {},
   "outputs": [
    {
     "name": "stdout",
     "output_type": "stream",
     "text": [
      "Enter the First Number :- 54\n",
      "Enter the Second Number :- 78\n"
     ]
    }
   ],
   "source": [
    "# 13 - Python Program to Find the Largest Among Three Numbers\n",
    "\n",
    "num1 = int(input(\"Enter the First Number :- \"))\n",
    "num2 = int(input(\"Enter the Second Number :- \"))\n",
    "num3 = int(input(\"Enter the Third Number :- \"))\n",
    "if num1>num2 and num1>num3:\n",
    "    print(f\"{num1} is greater than {num2} & {num3}\")\n",
    "elif num2>num1 and num2>num3:\n",
    "    print(f\"{num2} is greater than {num1} & {num3}\")\n",
    "else:\n",
    "    print(f\"{num3} is greater than {num1} & {num2}\")"
   ]
  },
  {
   "cell_type": "code",
   "execution_count": null,
   "metadata": {},
   "outputs": [],
   "source": []
  },
  {
   "cell_type": "code",
   "execution_count": null,
   "metadata": {},
   "outputs": [],
   "source": [
    "# 14 - Python Program to Check Prime Number\n",
    "\n",
    "num = int(input(\"Enter the number :- \" ))\n",
    "if num<=0:\n",
    "    print(\"Enter the correct Number\")\n",
    "elif num==1:\n",
    "    print(\"1 is neither prime nor composite number\")\n",
    "else:\n",
    "    for i in range(2,num):\n",
    "        if num%i==0:\n",
    "            print(\"not prime\")  \n",
    "            break\n",
    "    else:\n",
    "        print(\"prime\")\n",
    "        \n",
    "                  \n",
    "            "
   ]
  },
  {
   "cell_type": "code",
   "execution_count": null,
   "metadata": {},
   "outputs": [],
   "source": []
  },
  {
   "cell_type": "code",
   "execution_count": null,
   "metadata": {},
   "outputs": [],
   "source": [
    "# 15 - Python Program to Find the Factorial of a Number\n",
    "\n",
    "num = int(input(\"Enter the Number :- \"))\n",
    "fact=1\n",
    "for i in range(1,num+1):\n",
    "    fact=fact*i\n",
    "print(fact)"
   ]
  },
  {
   "cell_type": "code",
   "execution_count": null,
   "metadata": {},
   "outputs": [],
   "source": []
  },
  {
   "cell_type": "code",
   "execution_count": null,
   "metadata": {},
   "outputs": [],
   "source": [
    "# 16 - Python Program to Display the multiplication Table\n",
    "\n",
    "num = int(input(\"Enter the Number :- \"))\n",
    "for i in range(1,11):\n",
    "    print(f\"{num} * {i} = {num*i}\")"
   ]
  },
  {
   "cell_type": "code",
   "execution_count": null,
   "metadata": {},
   "outputs": [],
   "source": []
  },
  {
   "cell_type": "code",
   "execution_count": null,
   "metadata": {},
   "outputs": [],
   "source": []
  },
  {
   "cell_type": "code",
   "execution_count": null,
   "metadata": {},
   "outputs": [],
   "source": []
  },
  {
   "cell_type": "code",
   "execution_count": null,
   "metadata": {},
   "outputs": [],
   "source": []
  },
  {
   "cell_type": "code",
   "execution_count": null,
   "metadata": {},
   "outputs": [],
   "source": []
  },
  {
   "cell_type": "code",
   "execution_count": null,
   "metadata": {},
   "outputs": [],
   "source": []
  },
  {
   "cell_type": "code",
   "execution_count": null,
   "metadata": {},
   "outputs": [],
   "source": []
  },
  {
   "cell_type": "code",
   "execution_count": null,
   "metadata": {},
   "outputs": [],
   "source": []
  }
 ],
 "metadata": {
  "kernelspec": {
   "display_name": "Python 3",
   "language": "python",
   "name": "python3"
  },
  "language_info": {
   "codemirror_mode": {
    "name": "ipython",
    "version": 3
   },
   "file_extension": ".py",
   "mimetype": "text/x-python",
   "name": "python",
   "nbconvert_exporter": "python",
   "pygments_lexer": "ipython3",
   "version": "3.8.5"
  }
 },
 "nbformat": 4,
 "nbformat_minor": 4
}
