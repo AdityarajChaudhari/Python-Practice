{
 "cells": [
  {
   "cell_type": "code",
   "execution_count": 1,
   "metadata": {},
   "outputs": [
    {
     "name": "stdout",
     "output_type": "stream",
     "text": [
      "Hello World\n"
     ]
    }
   ],
   "source": [
    "# 1 - Python Program to Print Hello world!\n",
    "\n",
    "print(\"Hello World\")"
   ]
  },
  {
   "cell_type": "code",
   "execution_count": null,
   "metadata": {},
   "outputs": [],
   "source": []
  },
  {
   "cell_type": "code",
   "execution_count": 2,
   "metadata": {},
   "outputs": [
    {
     "name": "stdout",
     "output_type": "stream",
     "text": [
      "Enter the Number 1 :- 12\n",
      "Enter the Number 2 :- 70\n"
     ]
    },
    {
     "data": {
      "text/plain": [
       "82"
      ]
     },
     "execution_count": 2,
     "metadata": {},
     "output_type": "execute_result"
    }
   ],
   "source": [
    "# 2 - Python Program to Add Two Numbers\n",
    "\n",
    "num1 = int(input(\"Enter the Number 1 :- \"))\n",
    "num2 = int(input(\"Enter the Number 2 :- \"))\n",
    "def add(a,b):\n",
    "    return a+b\n",
    "add(num1, num2)"
   ]
  },
  {
   "cell_type": "code",
   "execution_count": null,
   "metadata": {},
   "outputs": [],
   "source": []
  },
  {
   "cell_type": "code",
   "execution_count": 3,
   "metadata": {},
   "outputs": [
    {
     "name": "stdout",
     "output_type": "stream",
     "text": [
      "Enter the Number :- 68\n"
     ]
    },
    {
     "data": {
      "text/plain": [
       "8.246211251235321"
      ]
     },
     "execution_count": 3,
     "metadata": {},
     "output_type": "execute_result"
    }
   ],
   "source": [
    "# 3 - Python Program to Find the Square Root\n",
    "\n",
    "num1 = float(input(\"Enter the Number :- \"))\n",
    "class Sqrt:\n",
    "    def sqrt_num(num):\n",
    "        return num**0.5\n",
    "s = Sqrt\n",
    "s.sqrt_num(num1)"
   ]
  },
  {
   "cell_type": "code",
   "execution_count": null,
   "metadata": {},
   "outputs": [],
   "source": []
  },
  {
   "cell_type": "code",
   "execution_count": 4,
   "metadata": {},
   "outputs": [
    {
     "name": "stdout",
     "output_type": "stream",
     "text": [
      "Enter the Base of the Triangle :- 10\n",
      "Enter the Height of the Triangle :- 12\n",
      "60.0\n"
     ]
    }
   ],
   "source": [
    "# 4 - Python Program to Calculate the Area of a Triangle\n",
    "\n",
    "b = float(input(\"Enter the Base of the Triangle :- \"))\n",
    "h = float(input(\"Enter the Height of the Triangle :- \"))\n",
    "def area(base, height):\n",
    "    print(0.5 * base * height)\n",
    "a = area(b, h)"
   ]
  },
  {
   "cell_type": "code",
   "execution_count": null,
   "metadata": {},
   "outputs": [],
   "source": []
  },
  {
   "cell_type": "code",
   "execution_count": 5,
   "metadata": {},
   "outputs": [
    {
     "name": "stdout",
     "output_type": "stream",
     "text": [
      "Enter the Number :- 1\n",
      "Enter the Number :- 5\n",
      "Enter the Number :- 6\n",
      "(-2+0j)\n",
      "(-3+0j)\n"
     ]
    }
   ],
   "source": [
    "# 5 - Python Program to Solve Quadratic Equation\n",
    "\n",
    "import cmath\n",
    "a = float(input(\"Enter the Number :- \"))\n",
    "b = float(input(\"Enter the Number :- \"))\n",
    "c = float(input(\"Enter the Number :- \"))\n",
    "print(((-b) + cmath.sqrt((b**2) - 4*a*c)) / 2*a)\n",
    "print(((-b) - cmath.sqrt((b**2) - 4*a*c)) / 2*a)"
   ]
  },
  {
   "cell_type": "code",
   "execution_count": null,
   "metadata": {},
   "outputs": [],
   "source": []
  },
  {
   "cell_type": "code",
   "execution_count": 6,
   "metadata": {},
   "outputs": [
    {
     "name": "stdout",
     "output_type": "stream",
     "text": [
      "Enter the value :- 34\n",
      "Enter the value :- 89\n",
      "89\n",
      "34\n"
     ]
    }
   ],
   "source": [
    "# 6 - Python Program to Swap Two Variables\n",
    "\n",
    "var1 = int(input(\"Enter the value :- \"))\n",
    "var2 = int(input(\"Enter the value :- \"))\n",
    "var1,var2 = var2,var1\n",
    "print(var1)\n",
    "print(var2)"
   ]
  },
  {
   "cell_type": "code",
   "execution_count": 7,
   "metadata": {},
   "outputs": [
    {
     "name": "stdout",
     "output_type": "stream",
     "text": [
      "Enter the value :- 22\n",
      "Enter the value :- 44\n",
      "New Value1 :-  44\n",
      "New Value2 :-  22\n"
     ]
    }
   ],
   "source": [
    "# Alternative Method\n",
    "\n",
    "var1 = int(input(\"Enter the value :- \"))\n",
    "var2 = int(input(\"Enter the value :- \"))\n",
    "temp= var1\n",
    "var1 = var2\n",
    "var2 = temp\n",
    "print(\"New Value1 :- \",var1)\n",
    "print(\"New Value2 :- \",var2)"
   ]
  },
  {
   "cell_type": "code",
   "execution_count": null,
   "metadata": {},
   "outputs": [],
   "source": []
  },
  {
   "cell_type": "code",
   "execution_count": 8,
   "metadata": {},
   "outputs": [
    {
     "name": "stdout",
     "output_type": "stream",
     "text": [
      "88\n"
     ]
    }
   ],
   "source": [
    "# 7 - Python Program to Generate a Random Number\n",
    "\n",
    "import random\n",
    "print(int(random.random()*100))"
   ]
  },
  {
   "cell_type": "code",
   "execution_count": 9,
   "metadata": {},
   "outputs": [
    {
     "name": "stdout",
     "output_type": "stream",
     "text": [
      "36\n"
     ]
    }
   ],
   "source": [
    "# Alternative\n",
    "\n",
    "import random\n",
    "print((random.randrange(1,100)))"
   ]
  },
  {
   "cell_type": "markdown",
   "metadata": {},
   "source": [
    "The difference between randint and randrange is that in randint the startpoint and endpoints are also considered while in randrange the start and endpoints are not considered"
   ]
  },
  {
   "cell_type": "code",
   "execution_count": 10,
   "metadata": {},
   "outputs": [
    {
     "name": "stdout",
     "output_type": "stream",
     "text": [
      "65\n"
     ]
    }
   ],
   "source": [
    "import random\n",
    "print(random.randint(1,100))"
   ]
  },
  {
   "cell_type": "code",
   "execution_count": null,
   "metadata": {},
   "outputs": [],
   "source": []
  },
  {
   "cell_type": "code",
   "execution_count": 11,
   "metadata": {},
   "outputs": [
    {
     "name": "stdout",
     "output_type": "stream",
     "text": [
      "Enter the Kilometers :- 10\n",
      "Miles :-  6.93\n"
     ]
    }
   ],
   "source": [
    "# 8 - Python Program to Convert Kilometers to Miles\n",
    "\n",
    "km = float(input(\"Enter the Kilometers :- \"))\n",
    "miles = km * 0.693\n",
    "print(\"Miles :- \",miles)"
   ]
  },
  {
   "cell_type": "code",
   "execution_count": null,
   "metadata": {},
   "outputs": [],
   "source": []
  },
  {
   "cell_type": "code",
   "execution_count": 12,
   "metadata": {},
   "outputs": [
    {
     "name": "stdout",
     "output_type": "stream",
     "text": [
      "Enter the Celcius value :- 34\n",
      "93.2\n"
     ]
    }
   ],
   "source": [
    "# 9 - Python Program to Convert Celsius To Fahrenheit\n",
    "\n",
    "cel = float(input(\"Enter the Celcius value :- \"))\n",
    "def cnvrt(cel):\n",
    "    fah = (cel*1.8)+32\n",
    "    print(fah)\n",
    "cnvrt(cel)"
   ]
  },
  {
   "cell_type": "code",
   "execution_count": null,
   "metadata": {},
   "outputs": [],
   "source": []
  },
  {
   "cell_type": "code",
   "execution_count": 14,
   "metadata": {},
   "outputs": [
    {
     "name": "stdout",
     "output_type": "stream",
     "text": [
      "Enter the Number :- -0.3\n",
      "Negative Number\n"
     ]
    }
   ],
   "source": [
    "# 10 - Python Program to Check if a Number is Positive, Negative or 0\n",
    "\n",
    "num = float(input(\"Enter the Number :- \"))\n",
    "if num > 0 :\n",
    "    print(\"Positive Number\")\n",
    "elif num < 0 :\n",
    "    print(\"Negative Number\")\n",
    "else:\n",
    "    print(\"Zero\")"
   ]
  },
  {
   "cell_type": "code",
   "execution_count": null,
   "metadata": {},
   "outputs": [],
   "source": []
  },
  {
   "cell_type": "code",
   "execution_count": null,
   "metadata": {},
   "outputs": [],
   "source": []
  },
  {
   "cell_type": "code",
   "execution_count": null,
   "metadata": {},
   "outputs": [],
   "source": []
  },
  {
   "cell_type": "code",
   "execution_count": null,
   "metadata": {},
   "outputs": [],
   "source": []
  },
  {
   "cell_type": "code",
   "execution_count": null,
   "metadata": {},
   "outputs": [],
   "source": []
  },
  {
   "cell_type": "code",
   "execution_count": null,
   "metadata": {},
   "outputs": [],
   "source": []
  },
  {
   "cell_type": "code",
   "execution_count": null,
   "metadata": {},
   "outputs": [],
   "source": []
  },
  {
   "cell_type": "code",
   "execution_count": null,
   "metadata": {},
   "outputs": [],
   "source": []
  },
  {
   "cell_type": "code",
   "execution_count": null,
   "metadata": {},
   "outputs": [],
   "source": []
  }
 ],
 "metadata": {
  "kernelspec": {
   "display_name": "Python 3",
   "language": "python",
   "name": "python3"
  },
  "language_info": {
   "codemirror_mode": {
    "name": "ipython",
    "version": 3
   },
   "file_extension": ".py",
   "mimetype": "text/x-python",
   "name": "python",
   "nbconvert_exporter": "python",
   "pygments_lexer": "ipython3",
   "version": "3.8.5"
  }
 },
 "nbformat": 4,
 "nbformat_minor": 4
}
